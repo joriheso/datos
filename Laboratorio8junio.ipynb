{
  "nbformat": 4,
  "nbformat_minor": 0,
  "metadata": {
    "colab": {
      "name": "Laboratorio8junio.ipynb",
      "provenance": [],
      "authorship_tag": "ABX9TyNcdMajbutqOUnlkKypHPTa",
      "include_colab_link": true
    },
    "kernelspec": {
      "name": "python3",
      "display_name": "Python 3"
    },
    "language_info": {
      "name": "python"
    }
  },
  "cells": [
    {
      "cell_type": "markdown",
      "metadata": {
        "id": "view-in-github",
        "colab_type": "text"
      },
      "source": [
        "<a href=\"https://colab.research.google.com/github/joriheso/datos/blob/main/Laboratorio8junio.ipynb\" target=\"_parent\"><img src=\"https://colab.research.google.com/assets/colab-badge.svg\" alt=\"Open In Colab\"/></a>"
      ]
    },
    {
      "cell_type": "markdown",
      "source": [
        "#**Laboratorio inicial de uso de Colab**"
      ],
      "metadata": {
        "id": "dIeKxT8kBR62"
      }
    },
    {
      "cell_type": "markdown",
      "source": [
        "II CICLO"
      ],
      "metadata": {
        "id": "K_DGPlyLCEKo"
      }
    },
    {
      "cell_type": "markdown",
      "source": [
        "José Ricardo Herrera Solano"
      ],
      "metadata": {
        "id": "RXRXX8zNBZv-"
      }
    },
    {
      "cell_type": "code",
      "source": [
        "print(\"Hola mundo\")"
      ],
      "metadata": {
        "colab": {
          "base_uri": "https://localhost:8080/"
        },
        "id": "VcdeLk_2Biif",
        "outputId": "f9bc4516-7867-42fc-ee47-152a653c6ae1"
      },
      "execution_count": null,
      "outputs": [
        {
          "output_type": "stream",
          "name": "stdout",
          "text": [
            "Hola mundo\n"
          ]
        }
      ]
    },
    {
      "cell_type": "code",
      "source": [
        "import pandas as pd\n",
        "\n",
        "from google.colab import auth\n",
        "auth.authenticate_user()\n",
        "\n",
        "import gspread \n",
        "from google.auth import default\n",
        "creds, _ = default()\n",
        "\n",
        "gc=gspread.authorize(creds)\n",
        "sh=gc.create('JoseRicardoHerreraSolano')\n"
      ],
      "metadata": {
        "id": "4yOx1jo1CImO"
      },
      "execution_count": null,
      "outputs": []
    },
    {
      "cell_type": "code",
      "source": [
        "from gspread.models import Worksheet\n",
        "worksheet = gc.open('JoseRicardoHerreraSolano').sheet1\n",
        "\n",
        "cell_list = worksheet.range('A1:G14')\n",
        "\n",
        "\n",
        "\n",
        "import random\n",
        "\n",
        "for cell in cell_list:\n",
        "\n",
        "  cell.value = random.randint(1,10)\n",
        "\n",
        "\n",
        "\n",
        "worksheet.update_cells(cell_list)"
      ],
      "metadata": {
        "colab": {
          "base_uri": "https://localhost:8080/"
        },
        "id": "4gVtZDFDEkSs",
        "outputId": "ff68db76-779e-4186-edfa-0896162530fa"
      },
      "execution_count": null,
      "outputs": [
        {
          "output_type": "execute_result",
          "data": {
            "text/plain": [
              "{'spreadsheetId': '1DJvWUT3zVRbaeLgj3bm3DC6d3nSxnU-QtLSq7WyHUUY',\n",
              " 'updatedCells': 98,\n",
              " 'updatedColumns': 7,\n",
              " 'updatedRange': \"'Hoja 1'!A1:G14\",\n",
              " 'updatedRows': 14}"
            ]
          },
          "metadata": {},
          "execution_count": 6
        }
      ]
    },
    {
      "cell_type": "code",
      "source": [
        "worksheet = gc.open('JoseRicardoHerreraSolano').sheet1\n",
        "rows=worksheet.get_all_values()\n",
        "print(rows)"
      ],
      "metadata": {
        "colab": {
          "base_uri": "https://localhost:8080/"
        },
        "id": "z8bvtHebH2yf",
        "outputId": "0457db6d-ff23-4f35-d62c-7115fe678b03"
      },
      "execution_count": null,
      "outputs": [
        {
          "output_type": "stream",
          "name": "stdout",
          "text": [
            "[['5', '4', '10', '3', '7', '6', '5'], ['2', '7', '8', '6', '6', '4', '6'], ['9', '1', '4', '3', '1', '5', '10'], ['2', '1', '5', '1', '1', '4', '6'], ['1', '1', '7', '9', '6', '6', '7'], ['6', '5', '5', '10', '3', '4', '5'], ['6', '5', '6', '5', '4', '9', '8'], ['3', '3', '7', '1', '7', '4', '10'], ['7', '9', '7', '2', '5', '10', '3'], ['9', '2', '10', '6', '1', '4', '9'], ['6', '9', '7', '3', '2', '3', '9'], ['4', '6', '7', '9', '7', '7', '6'], ['10', '10', '3', '8', '1', '4', '1'], ['8', '1', '2', '10', '8', '6', '2']]\n"
          ]
        }
      ]
    }
  ]
}